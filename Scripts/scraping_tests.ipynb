{
 "cells": [
  {
   "cell_type": "code",
   "execution_count": 62,
   "metadata": {},
   "outputs": [
    {
     "name": "stdout",
     "output_type": "stream",
     "text": [
      "Error parsing JSON: Expecting value: line 1 column 2 (char 1)\n",
      "Schedule data successfully saved to 'scraped_schedule.json'!\n",
      "Schedule data successfully saved to 'scraped_schedule.json'!\n"
     ]
    }
   ],
   "source": [
    "import requests\n",
    "from bs4 import BeautifulSoup\n",
    "import json\n",
    "import re\n",
    "\n",
    "def clean_json_string(s):\n",
    "    # Try to find a JSON array using regex\n",
    "    match = re.search(r'\\[(.*?)\\]', s, re.DOTALL)\n",
    "    if match:\n",
    "        json_str = match.group(0)\n",
    "        # Remove any trailing commas before closing brackets\n",
    "        json_str = re.sub(r',\\s*([}\\]])', r'\\1', json_str)\n",
    "        return json_str\n",
    "    return None\n",
    "\n",
    "# Fetch the webpage\n",
    "csv_url = \"https://www.gameshownetwork.com/schedule\"\n",
    "response = requests.get(csv_url)\n",
    "soup = BeautifulSoup(response.content, 'html.parser')\n",
    "\n",
    "# Find all script tags\n",
    "scripts = soup.find_all('script')\n",
    "\n",
    "# Look for the script containing schedule data\n",
    "for script in scripts:\n",
    "    if script.string and '[' in script.string:\n",
    "        json_str = clean_json_string(script.string)\n",
    "        if json_str:\n",
    "            try:\n",
    "                json_data = json.loads(json_str)\n",
    "                # Save to file\n",
    "                with open(\"scraped_schedule.json\", \"w\") as file:\n",
    "                    json.dump(json_data, file, indent=2)\n",
    "                print(\"Schedule data successfully saved to 'scraped_schedule.json'!\")\n",
    "            except json.JSONDecodeError as e:\n",
    "                print(f\"Error parsing JSON: {e}\")"
   ]
  }
 ],
 "metadata": {
  "kernelspec": {
   "display_name": "myenv",
   "language": "python",
   "name": "python3"
  },
  "language_info": {
   "codemirror_mode": {
    "name": "ipython",
    "version": 3
   },
   "file_extension": ".py",
   "mimetype": "text/x-python",
   "name": "python",
   "nbconvert_exporter": "python",
   "pygments_lexer": "ipython3",
   "version": "3.12.6"
  }
 },
 "nbformat": 4,
 "nbformat_minor": 2
}
